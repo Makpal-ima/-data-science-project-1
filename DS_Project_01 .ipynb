{
 "cells": [
  {
   "cell_type": "markdown",
   "id": "pDW0E71mTfAV",
   "metadata": {
    "id": "pDW0E71mTfAV"
   },
   "source": [
    "# Проектная работа по Introduction to Python"
   ]
  },
  {
   "cell_type": "markdown",
   "id": "6KUbxci0TfAX",
   "metadata": {
    "id": "6KUbxci0TfAX"
   },
   "source": [
    "#### > Task01. Базовый синтаксис:\n",
    "\n",
    "Создайте два переменных `name`, `age`  и впишите в них любые имя и возраст\n",
    "\n",
    "Затем распечатайте эти переменные, передав их тремя аргументами в функцию print, завернув в f-строку.\n",
    "\n",
    "Создайте комментарий в любом месте программы и напишите туда дату решения задачи. Это ни на что не повлияет — просто попрактикуемся в написании комментариев.\n",
    "\n",
    "Desired output:\n",
    "```python\n",
    "    Меня зовут <name>. Мне <age> лет/года.\n",
    "```"
   ]
  },
  {
   "cell_type": "code",
   "execution_count": 5,
   "id": "q5ye-Dt3TfAa",
   "metadata": {
    "id": "q5ye-Dt3TfAa"
   },
   "outputs": [
    {
     "data": {
      "text/plain": [
       "'Меня зовут Makpal. Мне 29 лет'"
      ]
     },
     "execution_count": 5,
     "metadata": {},
     "output_type": "execute_result"
    }
   ],
   "source": [
    "name = \"Makpal\"\n",
    "age = 29\n",
    "f\"Меня зовут {name}. Мне {age} лет\" #20.06.2025"
   ]
  },
  {
   "cell_type": "markdown",
   "id": "9QLUP0hLTfAa",
   "metadata": {
    "id": "9QLUP0hLTfAa"
   },
   "source": [
    "#### > Task02. Арифметика : поход в магазин\n",
    "\n",
    "Представим, что у нас есть `total_money` тенге и мы идем в магазин покупать варенье про запас.\n",
    "Каждая банка варенья стоит `price` тенге (при этом `price > 0`). Наша задача — подсчитать, сколько **банок** мы сможем купить.\n",
    "\n",
    "\n",
    "```python\n",
    "total_money = 5000\n",
    "price = 1579\n",
    "```\n",
    "Запишите результат в переменную jar_count.\n"
   ]
  },
  {
   "cell_type": "code",
   "execution_count": 1,
   "id": "jG3ndfabTfAb",
   "metadata": {
    "id": "jG3ndfabTfAb"
   },
   "outputs": [
    {
     "name": "stdout",
     "output_type": "stream",
     "text": [
      "3\n"
     ]
    }
   ],
   "source": [
    "total_money = 5000\n",
    "price = 1579\n",
    "\n",
    "jar_count = total_money // price\n",
    "\n",
    "print(jar_count)"
   ]
  },
  {
   "cell_type": "markdown",
   "id": "uk6k0J5YTfAc",
   "metadata": {
    "id": "uk6k0J5YTfAc"
   },
   "source": [
    "#### > Task03. Арифметика : квадратные уравнения\n",
    "\n",
    "В практических приложениях математики часто встречаются квадратные уравнения — это уравнения вида:\n",
    "\n",
    "ax<sup>2</sup> + bx + c = 0\n",
    "\n",
    "Здесь a, b и c — некие числа. Вот пример такого уравнения:\n",
    "\n",
    "3x<sup>2</sup> + 7x − 10 = 0\n",
    "\n",
    "В примере a=3, b=7, c=−10.\n",
    "\n",
    "У таких уравнений может быть два, одно или ноль решений. Мы для простоты будем рассматривать только те уравнения, которые имеют два решения. Если решений два, то они задаются формулами:\n",
    "\n",
    "$$ x_1 = {-b + \\sqrt{b^2-4ac} \\over 2a} $$ $$ x_2 = {-b - \\sqrt{b^2-4ac} \\over 2a} $$\n",
    "\n",
    "Выглядит пугающе! Но на деле две формулы отличаются только заменой знака \"+\" на знак \"−\" перед квадратным корнем.\n",
    "\n",
    "**Наша задача:** по известным a, b, c подсчитать оба корня этого уравнения<br>\n",
    "```python\n",
    "a = [6, 2, -4, 20]\n",
    "b = [11, -4, -7, -15]\n",
    "c = [-35, -2, 12, -10]\n",
    "```\n",
    "\n",
    "Запишите результаты в листы `x_1` и `x_2` соответственно\n",
    "\n",
    "*Bonus: попробуйте переписать решение квадратного уравнение теоремой Виета*"
   ]
  },
  {
   "cell_type": "code",
   "execution_count": 2,
   "id": "wNVdxkCzTfAd",
   "metadata": {
    "id": "wNVdxkCzTfAd"
   },
   "outputs": [
    {
     "name": "stdout",
     "output_type": "stream",
     "text": [
      "x_1 = [1.6666666666666667, 2.414213562373095, -2.8155218370325032, 1.175390529679106]\n",
      "x_2 = [-3.5, -0.41421356237309515, 1.065521837032503, -0.42539052967910607]\n"
     ]
    }
   ],
   "source": [
    "import math\n",
    "\n",
    "a = [6, 2, -4, 20]\n",
    "b = [11, -4, -7, -15]\n",
    "c = [-35, -2, 12, -10]\n",
    "\n",
    "x_1 = []\n",
    "x_2 = []\n",
    "\n",
    "for ai, bi, ci in zip(a, b, c):\n",
    "    d = bi**2 - 4 * ai * ci  # дискриминант\n",
    "    sqrt_d = math.sqrt(d)\n",
    "    x1 = (-bi + sqrt_d) / (2 * ai)\n",
    "    x2 = (-bi - sqrt_d) / (2 * ai)\n",
    "    x_1.append(x1)\n",
    "    x_2.append(x2)\n",
    "\n",
    "print(\"x_1 =\", x_1)\n",
    "print(\"x_2 =\", x_2)"
   ]
  },
  {
   "cell_type": "markdown",
   "id": "YhWIwfXbTfAd",
   "metadata": {
    "id": "YhWIwfXbTfAd"
   },
   "source": [
    "#### > Task04. Коллекции : \"Это большие дела...\"\n",
    "У нас есть два списка `tasks_my` и `tasks_friend`.\n",
    "\n",
    "Теперь необходимо объединить эти списки в один (любым способом, сначала tasks_my, потом tasks_friend) и сохраните результат в tasks_all\n",
    "\n",
    "```python\n",
    "tasks_my = ['Закончить с домашкой', 'Купить продукты', 'Поиграть в Valorant']\n",
    "tasks_friend = ['Поиграть в Valorant', 'Сходить в универ', 'Помыть машину']\n",
    "```"
   ]
  },
  {
   "cell_type": "code",
   "execution_count": 7,
   "id": "fxrJ4JEOTfAe",
   "metadata": {
    "id": "fxrJ4JEOTfAe"
   },
   "outputs": [
    {
     "name": "stdout",
     "output_type": "stream",
     "text": [
      "['Закончить с домашкой', 'Купить продукты', 'Поиграть в Valorant', 'Поиграть в Valorant', 'Сходить в универ', 'Помыть машину']\n"
     ]
    }
   ],
   "source": [
    "tasks_my = ['Закончить с домашкой', 'Купить продукты', 'Поиграть в Valorant']\n",
    "tasks_friend = ['Поиграть в Valorant', 'Сходить в универ', 'Помыть машину']\n",
    "tasks_all = tasks_my + tasks_friend\n",
    "print(tasks_all)"
   ]
  },
  {
   "cell_type": "markdown",
   "id": "W-2XV0tJTfAf",
   "metadata": {
    "id": "W-2XV0tJTfAf"
   },
   "source": [
    "#### > Task05. Коллекции : \"Это большие дела... \"-2\n",
    "В списке наших дел не хватает приоритетов задач -- какой задачей стоит заняться в первую очередь?\n",
    "\n",
    "Создайте dictionary по названием `my_tasks`. Структура и содержание следующее:\n",
    "\n",
    "| Приоритет\t| Задача |\n",
    "| ----- | ------ |\n",
    "| 0 | Покормить кота |\n",
    "| 1 | Закончить с домашкой |\n",
    "| 2 | Почитать книгу по программированию |\n",
    "| 3 | Купить продукты |\n",
    "| 4 | Поиграть в Valorant |\n",
    "\n"
   ]
  },
  {
   "cell_type": "code",
   "execution_count": 22,
   "id": "3aa60ecd-feaf-4405-b955-1d044acbcad8",
   "metadata": {},
   "outputs": [
    {
     "name": "stdout",
     "output_type": "stream",
     "text": [
      "                                       Задача\n",
      "Приоритет                                    \n",
      "0                              Покормить кота\n",
      "1                        Закончить с домашкой\n",
      "2          Почитать книгу по программированию\n",
      "3                             Купить продукты\n",
      "4                         Поиграть в Valorant\n"
     ]
    }
   ],
   "source": [
    "import pandas as pd\n",
    "my_tasks = {\n",
    "    'Приоритет':[0,1,2,3,4],\n",
    "    'Задача':['Покормить кота', 'Закончить с домашкой', 'Почитать книгу по программированию', 'Купить продукты', 'Поиграть в Valorant'] }\n",
    "df = pd.DataFrame(my_tasks) \n",
    "df1 = df.set_index('Приоритет')\n",
    "print(df1)"
   ]
  },
  {
   "cell_type": "markdown",
   "id": "ETN8tIwWTfAf",
   "metadata": {
    "id": "ETN8tIwWTfAf"
   },
   "source": [
    "#### > Task06. Множества : Дубли в задачах\n",
    "Последняя неделя выдалась тяжелой, и вам постоянно приходилось в спешке добавлять в записную книжку новые задачи. Теперь одна и та же задача в вашей книжке может дублироваться! Дедлайны вовсю бьют, поэтому вы готовы садиться за задачи без разбора их порядка.\n",
    "\n",
    "Вам дан словарь с задачами `tasks`. Пройдитесь по всем ключам и устраните дублирование только в рамках значений, соответствующих одному ключу. Создайте новый словарь `new_tasks`, в котором будут те же ключи и те же задачи, но уже без дублей.\n",
    "\n",
    "```python\n",
    "tasks = {\n",
    "    0: [\"Покормить кота\",\"Покормить кота\"],\n",
    "    1: [\"Покормить кота\", \"Забрать посылку\"]\n",
    "}\n",
    "\n",
    "# Результат\n",
    "new_tasks = {\n",
    "    0: ['Покормить кота'],\n",
    "    1: ['Покормить кота', 'Забрать посылку']\n",
    "}\n",
    "\n",
    "```"
   ]
  },
  {
   "cell_type": "code",
   "execution_count": 6,
   "id": "45b1fa62-c218-407d-9375-afbbb644158b",
   "metadata": {},
   "outputs": [
    {
     "data": {
      "text/plain": [
       "{0: ['Покормить кота', 'Покормить кота'],\n",
       " 1: ['Покормить кота', 'Забрать посылку']}"
      ]
     },
     "execution_count": 6,
     "metadata": {},
     "output_type": "execute_result"
    }
   ],
   "source": [
    "tasks = {\n",
    "    0: [\"Покормить кота\",\"Покормить кота\"],\n",
    "    1: [\"Покормить кота\", \"Забрать посылку\"]\n",
    "}\n",
    "tasks"
   ]
  },
  {
   "cell_type": "code",
   "execution_count": 3,
   "id": "kCZLM6hvTfAg",
   "metadata": {
    "id": "kCZLM6hvTfAg"
   },
   "outputs": [
    {
     "name": "stdout",
     "output_type": "stream",
     "text": [
      "   Приоритет           Задача\n",
      "0          0   Покормить кота\n",
      "1          1  Забрать посылку\n"
     ]
    }
   ],
   "source": [
    "import pandas as pd\n",
    "tasks = {\n",
    "    0: [\"Покормить кота\",\"Покормить кота\"],\n",
    "    1: [\"Покормить кота\", \"Забрать посылку\"]}\n",
    "df = pd.DataFrame(tasks)\n",
    "new_tasks = {\n",
    "    'Приоритет':[0,1],\n",
    "    'Задача': ['Покормить кота', 'Забрать посылку']}\n",
    "df = pd.DataFrame(new_tasks) \n",
    "df1 = df.set_index('Приоритет')\n",
    "print (df)"
   ]
  },
  {
   "cell_type": "code",
   "execution_count": 12,
   "id": "7603ff08-2cc3-45a2-a915-ebe877be34c0",
   "metadata": {},
   "outputs": [
    {
     "name": "stdout",
     "output_type": "stream",
     "text": [
      "   Приоритет                             Задача\n",
      "0          0                   [Покормить кота]\n",
      "1          1  [Покормить кота, Забрать посылку]\n"
     ]
    }
   ],
   "source": [
    "import pandas as pd\n",
    "\n",
    "tasks = {0: [\"Покормить кота\",\"Покормить кота\"],\n",
    "    1: [\"Покормить кота\", \"Забрать посылку\"]}\n",
    "\n",
    "df = pd.DataFrame({\n",
    "    'Приоритет': list(tasks.keys()),\n",
    "    'Задача': list(tasks.values()) })\n",
    "\n",
    "df['Задача'] = df['Задача'].apply(lambda lst: list(dict.fromkeys(lst)))\n",
    "df1 = df.set_index('Приоритет')\n",
    "print(df)"
   ]
  },
  {
   "cell_type": "markdown",
   "id": "1St7whD8TfAh",
   "metadata": {
    "id": "1St7whD8TfAh"
   },
   "source": [
    "#### > Task07. Функции : Капитализация процентов\n",
    "Мы изучили рынок на условия по депозитам, и хотим посчитать во что превратится наш первоначальный взнос `n` лет спустя.\n",
    "\n",
    "Напишите функцию `final_balance`, которая на вход принимает начальную сумму `init_sum`, процентную ставку `interest_rate`, количество лет `years`. Функция должна возвращать сумму по истечении этого срока.\n",
    "\n",
    "|init_sum |\tinterest_rate\t| years|\n",
    "|-----|--------|--------|\n",
    "|1_000_000 |\t14.3\t|10|\n",
    "|1_200_000 |\t 11.5\t|8|\n",
    "|700_000 |\t 9.9\t|3|\n",
    "|825_000 |\t 13.3\t|7|\n",
    "\n",
    "*Учтите, что если процентная ставка 10%, первоначальный взнос 100 000, то по истечению 1 года у вас на счету будет 110 000, и на 2 год вы получите 10% от 110 000 и так далее до конца срока*"
   ]
  },
  {
   "cell_type": "code",
   "execution_count": 9,
   "id": "z6r6al_bTfAh",
   "metadata": {
    "id": "z6r6al_bTfAh"
   },
   "outputs": [
    {
     "name": "stdout",
     "output_type": "stream",
     "text": [
      "   init_sum  interest_rate  years  final_balance\n",
      "0   1000000           14.3     10        3805943\n",
      "1   1200000           11.5      8        2866686\n",
      "2    700000            9.9      3         929161\n",
      "3    825000           13.3      7        1977257\n"
     ]
    }
   ],
   "source": [
    "import pandas as pd\n",
    "def final_balance(init_sum, interest_rate,years):\n",
    "    return init_sum * (1+interest_rate/100)** years\n",
    "df=pd.DataFrame({\n",
    "    'init_sum':[1_000_000,1_200_000,700_000,825_000],\n",
    "    'interest_rate':[14.3,11.5,9.9,13.3],\n",
    "    'years':[10,8,3,7] })\n",
    "df['final_balance']=df.apply(lambda x: final_balance(x['init_sum'], x['interest_rate'], x['years']), axis=1)\n",
    "df['final_balance'] = df['final_balance'].astype(int)\n",
    "print(df)"
   ]
  },
  {
   "cell_type": "markdown",
   "id": "0uBnMgPzTfAh",
   "metadata": {
    "id": "0uBnMgPzTfAh"
   },
   "source": [
    "#### > Task08. Ошибки и их обработка\n",
    "Напишите функцию `sum_as_ints`, которая принимает на вход **список** из строк, пытается привести их к целому числу через `int(element)` и считает сумму. Список может содержать любые данные, но если они не приводятся через `int(element)`, то программа должна их отбросить.\n",
    "\n",
    "Вы можете попробовать выполнить `int(\"hello\")`, `int(\"3.14\")`, `int(\"2,2\")` и увидеть, какие исключения выбрасывает программа. После этого можно обработать эти исключения у себя в функции."
   ]
  },
  {
   "cell_type": "code",
   "execution_count": 11,
   "id": "HnJ4D-0wTfAi",
   "metadata": {
    "id": "HnJ4D-0wTfAi"
   },
   "outputs": [
    {
     "name": "stdout",
     "output_type": "stream",
     "text": [
      "32\n"
     ]
    }
   ],
   "source": [
    "def sum_as_ints(lst):\n",
    "    total = 0\n",
    "    for element in lst:\n",
    "        try:\n",
    "            number = int(element)\n",
    "            total += number\n",
    "        except (ValueError, TypeError):\n",
    "            continue \n",
    "    return total\n",
    "    \n",
    "print(sum_as_ints([\"10\", \"20\", \"hello\", \"3.14\", None, \"2\"]))"
   ]
  },
  {
   "cell_type": "markdown",
   "id": "2zGwjcFNTfAi",
   "metadata": {
    "id": "2zGwjcFNTfAi"
   },
   "source": [
    "#### > Task09. Срезы\n",
    "В этом задании Вам понадобится написать функцию `find_substr`,  которая принимает на вход два аргумента: подстроку (любой длины) и строку, в которой нужно ее искать, и возвращает **кортеж**, представляющий собой пару [start, stop) первой позиции, где найдено слово.\n",
    "\n",
    "Например:\n",
    "```python\n",
    "find_substr(\"мы\", \"Летом мы хотим отдыхать на море\")\n",
    "# Output:\n",
    "(6, 8)\n",
    "\n",
    "find_substr(\"ма\", \"маленькая машина\")\n",
    "# Output:\n",
    "(0, 2)\n",
    "\n",
    "```"
   ]
  },
  {
   "cell_type": "code",
   "execution_count": 3,
   "id": "ahOEPnVzTfAi",
   "metadata": {
    "id": "ahOEPnVzTfAi"
   },
   "outputs": [
    {
     "name": "stdout",
     "output_type": "stream",
     "text": [
      "(6, 8)\n",
      "(0, 2)\n"
     ]
    }
   ],
   "source": [
    "def find_substr(sub, string):\n",
    "    start = string.find(sub)\n",
    "    if start == -1:\n",
    "        return None\n",
    "    stop = start + len(sub)\n",
    "    return (start, stop)\n",
    "print(find_substr(\"мы\", \"Летом мы хотим отдыхать на море\"))\n",
    "\n",
    "print(find_substr(\"ма\", \"маленькая машина\"))"
   ]
  },
  {
   "cell_type": "markdown",
   "id": "CsE_DprqTfAj",
   "metadata": {
    "id": "CsE_DprqTfAj"
   },
   "source": [
    "#### > Task10. Строки\n",
    "В этом задании необходимо написать функцию `check_string`, которая сначала проверяет:\n",
    "1. наличие лишних символов пробела слева и справа. Если есть лишние пробелы, то тогда мы считаем строку неверной;\n",
    "1. что только первое слово начинается с большой буквы, а остальные с маленькой;\n",
    "1. что последний символ последнего элемента является точкой.\n",
    "\n",
    "Например:\n",
    "```python\n",
    "def check_string(string):\n",
    "    <...>\n",
    "    return result\n",
    "\n",
    "check_string('В этом году будет особенно теплое море.')\n",
    "True\n",
    "check_string('В этом году будет особенно теплое Mоре.')\n",
    "False\n",
    "check_string('В этом году будет особенно теплое море')\n",
    "False\n",
    "check_string(' В этом году будет особенно теплое море')\n",
    "False\n",
    "```"
   ]
  },
  {
   "cell_type": "code",
   "execution_count": 1,
   "id": "lsW_1v3JTfAj",
   "metadata": {
    "id": "lsW_1v3JTfAj"
   },
   "outputs": [
    {
     "name": "stdout",
     "output_type": "stream",
     "text": [
      "True\n",
      "False\n",
      "False\n",
      "False\n"
     ]
    }
   ],
   "source": [
    "def check_string(string):\n",
    "    if string != string.strip():\n",
    "        return False\n",
    "    if not string.endswith('.'):\n",
    "        return False  \n",
    "    words = string.split()\n",
    "    if not words:\n",
    "        return False\n",
    "    if not words[0][0].isupper() or words[0][1:] != words[0][1:].lower():\n",
    "        return False\n",
    "    for w in words[1:]:\n",
    "        if w != w.lower():\n",
    "            return False\n",
    "    return True\n",
    "\n",
    "print(check_string('В этом году будет особенно теплое море.'))       \n",
    "print(check_string('В этом году будет особенно теплое Mоре.'))\n",
    "print(check_string('В этом году будет особенно теплое море'))     \n",
    "print(check_string(' В этом году будет особенно теплое море.'))      "
   ]
  },
  {
   "cell_type": "code",
   "execution_count": null,
   "id": "e9a5c532",
   "metadata": {},
   "outputs": [],
   "source": []
  },
  {
   "cell_type": "code",
   "execution_count": null,
   "id": "b7a18cce",
   "metadata": {},
   "outputs": [],
   "source": []
  }
 ],
 "metadata": {
  "colab": {
   "provenance": []
  },
  "kernelspec": {
   "display_name": "Python 3 (ipykernel)",
   "language": "python",
   "name": "python3"
  },
  "language_info": {
   "codemirror_mode": {
    "name": "ipython",
    "version": 3
   },
   "file_extension": ".py",
   "mimetype": "text/x-python",
   "name": "python",
   "nbconvert_exporter": "python",
   "pygments_lexer": "ipython3",
   "version": "3.13.5"
  }
 },
 "nbformat": 4,
 "nbformat_minor": 5
}
